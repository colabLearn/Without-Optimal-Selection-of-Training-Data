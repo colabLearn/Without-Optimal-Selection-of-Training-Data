{
 "cells": [
  {
   "cell_type": "code",
   "execution_count": 25,
   "id": "1cf98daf",
   "metadata": {},
   "outputs": [],
   "source": [
    "import pandas as pd\n",
    "import re\n",
    "import seaborn as sns\n",
    "from sklearn.model_selection import train_test_split\n",
    "from sklearn.feature_extraction.text import TfidfVectorizer\n",
    "from sklearn.linear_model import LogisticRegression\n",
    "from sklearn.naive_bayes import MultinomialNB\n",
    "from sklearn.metrics import classification_report, f1_score, accuracy_score, confusion_matrix,recall_score\n",
    "from sklearn import svm\n",
    "from sklearn.metrics import cohen_kappa_score\n",
    "import matplotlib.pyplot as plt"
   ]
  },
  {
   "cell_type": "code",
   "execution_count": 2,
   "id": "d09d4ed1",
   "metadata": {},
   "outputs": [],
   "source": [
    "'''\n",
    "File path to data of participants' response with human label (score) i.e. desired[1] and desired[0]\n",
    "'''\n",
    "dataFile = 'D:/NLP_Data/Data4Test.csv'"
   ]
  },
  {
   "cell_type": "code",
   "execution_count": 3,
   "id": "c531c66c",
   "metadata": {},
   "outputs": [],
   "source": [
    "'''\n",
    "Function cleaTestResp remove stopwords and special character from the responses \n",
    "and it returns the cleaned response in new column:[cleaned_resp]. \n",
    "Argument: rows in data[response]\n",
    "Output: response text wiithout stopwords and special character\n",
    "'''\n",
    "def cleanTextResp (textResp):\n",
    "    temp = [re.sub(r\"(@\\[A-Za-z0-9]+)|([^0-9A-Za-z \\t])|(\\w+:\\/\\/\\S+)|^rt|http.+?\", \"\", k) for k in textResp.split(\"\\n\")]\n",
    "    cleaned = ' '.join(map(str,  temp))\n",
    "    \n",
    "    return cleaned"
   ]
  },
  {
   "cell_type": "code",
   "execution_count": 4,
   "id": "f9d4307c",
   "metadata": {},
   "outputs": [],
   "source": [
    "'''\n",
    "Function ballanceData  balances the number of response labeled (scored) [0] and [1]\n",
    "The function will usually reduce our data set for example:\n",
    "in dataFile we have 93 responses Labeled [0] and 57 responses labeled [1]\n",
    "output from this functioin have 57 responses labeled [0] and 57 responses labeled [1]\n",
    "Argument: data, label (or score) column name, categories of label e.g. in our context 1 and 0\n",
    "Outuput: data that is balanced, i.e. an equal number of response data categorises (labels) as each label category\n",
    "'''\n",
    "def ballanceData(in_rawData, catColumn, cat_0, cat_1):\n",
    "    x=in_rawData[catColumn].value_counts()\n",
    "    \n",
    "    if(x[cat_0]>x[cat_1]):\n",
    "        df = in_rawData.sample(frac=1).reset_index()\n",
    "        df_cat_high= df[df['Label']== cat_0]\n",
    "        df_cat_low = df[df['Label']== cat_1]\n",
    "        df_cat_high_downsampled = df_cat_high.sample(df_cat_low.shape[0])\n",
    "        df_balanced = pd.concat([df_cat_high_downsampled, df_cat_low])\n",
    "        bal_shuffled = df_balanced.sample(frac=1)\n",
    "        \n",
    "    if(x[cat_1]>x[cat_0]):\n",
    "        df = in_rawData.sample(frac=1).reset_index()\n",
    "        df_cat_high= df[df['Label']== cat_1]\n",
    "        df_cat_low = df[df['Label']== cat_0]\n",
    "        df_cat_high_downsampled = df_cat_high.sample(df_cat_low.shape[0])\n",
    "        df_balanced = pd.concat([df_cat_high_downsampled, df_cat_low])\n",
    "        bal_shuffled = df_balanced.sample(frac=1)\n",
    "        \n",
    "    if(x[cat_1]==x[cat_0]):\n",
    "        bal_shuffled = in_rawData\n",
    "        \n",
    "    \n",
    "    return bal_shuffled"
   ]
  },
  {
   "cell_type": "code",
   "execution_count": 5,
   "id": "9cc01524",
   "metadata": {},
   "outputs": [],
   "source": [
    "'''\n",
    "Function train_test_split data. Use sklearn.model_selection to split data into train and test set\n",
    "Argument: remaining data after preprocessing and ballancing, splitRatio--> specify the ratio of test data\n",
    "        (for example, if splitRatio=0.3 then train:test data ratio is 70:30)\n",
    "'''\n",
    "def splitData (remaining_rawData, splitRatio):\n",
    "    X_train, X_test, y_train, y_test = train_test_split(remaining_rawData['clean_resp'],remaining_rawData[\"Label\"],test_size=splitRatio,shuffle=True,stratify=remaining_rawData['Label'])\n",
    "\n",
    "\n",
    "    return X_train, X_test, y_train, y_test"
   ]
  },
  {
   "cell_type": "code",
   "execution_count": 6,
   "id": "fdd6a228",
   "metadata": {},
   "outputs": [],
   "source": [
    "'''\n",
    "The function used the built-in  feature extraction function in sklearn.feature_extraction.text, TfidfVectorizer.\n",
    "Argument: Responses in training and test data i.e. X_train and X_test\n",
    "Output:  vectorized resopnses for training and testing.\n",
    "'''\n",
    "def vectorize_X_train_AND_X_test(in_X_train, in_X_test):\n",
    "    tfidf_vectorizer = TfidfVectorizer(use_idf=True)\n",
    "    X_train_vectors_tfidf = tfidf_vectorizer.fit_transform(in_X_train) \n",
    "    X_test_vectors_tfidf = tfidf_vectorizer.transform(in_X_test)\n",
    "    \n",
    "    return X_train_vectors_tfidf, X_test_vectors_tfidf"
   ]
  },
  {
   "cell_type": "code",
   "execution_count": 7,
   "id": "78bd122e",
   "metadata": {},
   "outputs": [],
   "source": [
    "'''\n",
    "Function trains logistic regressioin model.\n",
    "Argument: vectorised X_train and X_test, the corresponding labels of X_train and X_test i.e. y_train, y_test\n",
    "Output: confusion matrix, accuracy, f1, recall, model's prediction, kappa score and the model\n",
    "'''\n",
    "def trainLR_Model(inX_train_vectors_tfidf, inX_test_vectors_tfidf, iny_train, iny_test):\n",
    "    lr_tfidf=LogisticRegression(solver = 'liblinear', C=10, penalty = 'l2')\n",
    "    \n",
    "    lr_tfidf.fit(inX_train_vectors_tfidf, iny_train)\n",
    "    \n",
    "    y_predict_lr = lr_tfidf.predict(inX_test_vectors_tfidf)\n",
    "    \n",
    "    y_prob_lr = lr_tfidf.predict_proba(inX_test_vectors_tfidf)[:,1]\n",
    "    \n",
    "    report_lr = classification_report(iny_test, y_predict_lr, output_dict=True)  \n",
    "    cm_lr = confusion_matrix(iny_test, y_predict_lr)\n",
    "    acc_lr = accuracy_score(iny_test, y_predict_lr)\n",
    "    f1_lr= f1_score(iny_test, y_predict_lr)\n",
    "    recall_lr=recall_score(iny_test, y_predict_lr)\n",
    "    \n",
    "    y_testList = iny_test.tolist()\n",
    "    \n",
    "    kapaLR = cohen_kappa_score(y_predict_lr, y_testList)\n",
    "    \n",
    "    return cm_lr, acc_lr, f1_lr, recall_lr,y_predict_lr,kapaLR, lr_tfidf"
   ]
  },
  {
   "cell_type": "code",
   "execution_count": 8,
   "id": "2a7cddb5",
   "metadata": {},
   "outputs": [],
   "source": [
    "'''\n",
    "Function trains Naive Bayes Model.\n",
    "Argument: vectorised X_train and X_test, the corresponding labels of X_train and X_test i.e. y_train, y_test\n",
    "Output: confusion matrix, accuracy, f1, recall, model's prediction, kappa score and the model\n",
    "\n",
    "'''\n",
    "def trainNB_Model (inX_train_vectors_tfidf, inX_test_vectors_tfidf, iny_train, iny_test):\n",
    "    nb_tfidf = MultinomialNB()\n",
    "\n",
    "    nb_tfidf.fit(inX_train_vectors_tfidf, iny_train)\n",
    "    \n",
    "    y_predict_nb = nb_tfidf.predict(inX_test_vectors_tfidf)\n",
    "\n",
    "    y_prob_nb = nb_tfidf.predict_proba(inX_test_vectors_tfidf)[:,1]\n",
    "\n",
    "    report_nb = classification_report(iny_test, y_predict_nb, output_dict=True)\n",
    "    \n",
    "    cm_nb = confusion_matrix(iny_test, y_predict_nb)\n",
    "    acc_nb = accuracy_score(iny_test, y_predict_nb)\n",
    "    f1_nb= f1_score(iny_test, y_predict_nb)\n",
    "    recall_nb =recall_score(iny_test, y_predict_nb)\n",
    "    \n",
    "    y_testList = iny_test.tolist()\n",
    "    \n",
    "    kapaNB = cohen_kappa_score(y_predict_nb, y_testList)\n",
    "\n",
    "    return cm_nb, acc_nb, f1_nb, recall_nb,y_predict_nb, kapaNB,  nb_tfidf"
   ]
  },
  {
   "cell_type": "code",
   "execution_count": 9,
   "id": "d36d8cdb",
   "metadata": {},
   "outputs": [],
   "source": [
    "'''\n",
    "Function trains logistic SVM model.\n",
    "Argument: vectorised X_train and X_test, the corresponding labels of X_train and X_test i.e. y_train, y_test\n",
    "Output: confusion matrix, accuracy, f1, recall, model's prediction, kappa score and the model\n",
    "'''\n",
    "def trainSVM_Model(inX_train_vectors_tfidf,inX_test_vectors_tfidf, iny_train, iny_test):\n",
    "    SVM = svm.SVC(C=1.0, kernel = 'linear', degree=3, gamma='auto')\n",
    "    SVM=svm.SVC(probability=True)\n",
    "    SVM.fit(inX_train_vectors_tfidf, iny_train)\n",
    "    \n",
    "    y_predict_svm = SVM.predict(inX_test_vectors_tfidf)\n",
    "    y_prob_svm = SVM.predict_proba(inX_test_vectors_tfidf)\n",
    "\n",
    "    #y_prob = nb_tfidf.predict_proba(In_X_test_vectors_tfidf)[:,1]\n",
    "    report_svm = classification_report(iny_test, y_predict_svm, output_dict=True)\n",
    "    \n",
    "    cm_svm = confusion_matrix(iny_test, y_predict_svm)\n",
    "    acc_svm = accuracy_score(iny_test, y_predict_svm)\n",
    "    f1_svm= f1_score(iny_test, y_predict_svm)\n",
    "    \n",
    "    recall_svm=recall_score(iny_test, y_predict_svm)\n",
    "    \n",
    "    y_testList = iny_test.tolist()\n",
    "    \n",
    "    kapaSVM = cohen_kappa_score(y_predict_svm, y_testList)\n",
    "    \n",
    "    return cm_svm, acc_svm, f1_svm, recall_svm, y_predict_svm, kapaSVM, SVM"
   ]
  },
  {
   "cell_type": "code",
   "execution_count": 10,
   "id": "2449c6f1",
   "metadata": {},
   "outputs": [],
   "source": [
    "'''\n",
    "Function that train all the model and store the outpu metrics in a dictionary  with model name as key\n",
    "e.g. resultDictionary = {\"LR\": Result from LR model, \"NB\": Result from Naive Bayes Model, \"SVM\": Result from SVM model}\n",
    "Argument: path to data of partcpants' responses and human label \n",
    "Output: resultDictonary\n",
    "'''\n",
    "def trainModel_Without_Selecting_TrainingSet (in_dataFile):\n",
    "    data = pd.read_csv (in_dataFile, encoding='ISO-8859-1')\n",
    "    \n",
    "    data['clean_resp'] = data.apply(lambda row: cleanTextResp(row['Response']), axis=1)\n",
    "    \n",
    "    data = ballanceData(data, 'Label', 0, 1)\n",
    "    \n",
    "    X_train, X_test, y_train, y_test = train_test_split(data['clean_resp'],data[\"Label\"],test_size=0.3,shuffle=True,stratify=data['Label'])\n",
    "    \n",
    "    X_train_vectors_tfidf, X_test_vectors_tfidf = vectorize_X_train_AND_X_test(X_train, X_test)\n",
    "    \n",
    "    lrResult = trainLR_Model(X_train_vectors_tfidf, X_test_vectors_tfidf, y_train, y_test)\n",
    "    \n",
    "    nbResult = trainNB_Model (X_train_vectors_tfidf, X_test_vectors_tfidf, y_train, y_test)\n",
    "    \n",
    "    svmResult = trainSVM_Model(X_train_vectors_tfidf, X_test_vectors_tfidf, y_train, y_test)\n",
    "    \n",
    "    dictResult = {'LR': lrResult, 'NB': nbResult, 'SVM': svmResult}\n",
    "    \n",
    "    return dictResult"
   ]
  },
  {
   "cell_type": "code",
   "execution_count": 11,
   "id": "0bc2d82b",
   "metadata": {},
   "outputs": [],
   "source": [
    "'''\n",
    "How to run the function to train model in a single run\n",
    "'''\n",
    "Result = trainModel_Without_Selecting_TrainingSet (dataFile)"
   ]
  },
  {
   "cell_type": "code",
   "execution_count": 13,
   "id": "90a96d66",
   "metadata": {},
   "outputs": [],
   "source": [
    "'''\n",
    "Run trainModel_Without_Selecting_TrainingSet (in_dataFile) in 10 iteratoins.\n",
    "Collect the result from each run in a list --> Result_10Run_List\n",
    "'''\n",
    "Result_10Run_List=[]\n",
    "for i in range(10):\n",
    "    Result = trainModel_Without_Selecting_TrainingSet (dataFile)\n",
    "    Result_10Run_List.append(Result)\n",
    "    "
   ]
  },
  {
   "cell_type": "code",
   "execution_count": 14,
   "id": "c7509123",
   "metadata": {},
   "outputs": [],
   "source": [
    "lr_acc, lr_kappa= [],[]\n",
    "nb_acc, nb_kappa= [],[]\n",
    "svm_acc, svm_kappa= [],[]"
   ]
  },
  {
   "cell_type": "code",
   "execution_count": 15,
   "id": "e250920a",
   "metadata": {},
   "outputs": [],
   "source": [
    "'''\n",
    "Collect the accuracy and kappa score of each model in each iteration in the above-initialized lists.\n",
    "'''\n",
    "for i in range(10):\n",
    "    lr_acc.append(Result_10Run_List[i]['LR'][1])\n",
    "    lr_kappa.append(Result_10Run_List[i]['LR'][5])\n",
    "    nb_acc.append(Result_10Run_List[i]['NB'][1])\n",
    "    nb_kappa.append(Result_10Run_List[i]['NB'][5])\n",
    "    svm_acc.append(Result_10Run_List[i]['SVM'][1])\n",
    "    svm_kappa.append(Result_10Run_List[i]['SVM'][5])"
   ]
  },
  {
   "cell_type": "code",
   "execution_count": 17,
   "id": "d53e17ed",
   "metadata": {},
   "outputs": [
    {
     "data": {
      "text/html": [
       "<div>\n",
       "<style scoped>\n",
       "    .dataframe tbody tr th:only-of-type {\n",
       "        vertical-align: middle;\n",
       "    }\n",
       "\n",
       "    .dataframe tbody tr th {\n",
       "        vertical-align: top;\n",
       "    }\n",
       "\n",
       "    .dataframe thead th {\n",
       "        text-align: right;\n",
       "    }\n",
       "</style>\n",
       "<table border=\"1\" class=\"dataframe\">\n",
       "  <thead>\n",
       "    <tr style=\"text-align: right;\">\n",
       "      <th></th>\n",
       "      <th>Logistic Reg.</th>\n",
       "      <th>Naive Bayes</th>\n",
       "      <th>SVM</th>\n",
       "    </tr>\n",
       "  </thead>\n",
       "  <tbody>\n",
       "    <tr>\n",
       "      <th>0</th>\n",
       "      <td>0.771429</td>\n",
       "      <td>0.714286</td>\n",
       "      <td>0.742857</td>\n",
       "    </tr>\n",
       "    <tr>\n",
       "      <th>1</th>\n",
       "      <td>0.628571</td>\n",
       "      <td>0.628571</td>\n",
       "      <td>0.628571</td>\n",
       "    </tr>\n",
       "    <tr>\n",
       "      <th>2</th>\n",
       "      <td>0.742857</td>\n",
       "      <td>0.771429</td>\n",
       "      <td>0.742857</td>\n",
       "    </tr>\n",
       "    <tr>\n",
       "      <th>3</th>\n",
       "      <td>0.828571</td>\n",
       "      <td>0.771429</td>\n",
       "      <td>0.714286</td>\n",
       "    </tr>\n",
       "    <tr>\n",
       "      <th>4</th>\n",
       "      <td>0.800000</td>\n",
       "      <td>0.771429</td>\n",
       "      <td>0.714286</td>\n",
       "    </tr>\n",
       "    <tr>\n",
       "      <th>5</th>\n",
       "      <td>0.657143</td>\n",
       "      <td>0.685714</td>\n",
       "      <td>0.742857</td>\n",
       "    </tr>\n",
       "    <tr>\n",
       "      <th>6</th>\n",
       "      <td>0.714286</td>\n",
       "      <td>0.742857</td>\n",
       "      <td>0.685714</td>\n",
       "    </tr>\n",
       "    <tr>\n",
       "      <th>7</th>\n",
       "      <td>0.742857</td>\n",
       "      <td>0.742857</td>\n",
       "      <td>0.771429</td>\n",
       "    </tr>\n",
       "    <tr>\n",
       "      <th>8</th>\n",
       "      <td>0.657143</td>\n",
       "      <td>0.628571</td>\n",
       "      <td>0.714286</td>\n",
       "    </tr>\n",
       "    <tr>\n",
       "      <th>9</th>\n",
       "      <td>0.742857</td>\n",
       "      <td>0.685714</td>\n",
       "      <td>0.771429</td>\n",
       "    </tr>\n",
       "  </tbody>\n",
       "</table>\n",
       "</div>"
      ],
      "text/plain": [
       "   Logistic Reg.  Naive Bayes       SVM\n",
       "0       0.771429     0.714286  0.742857\n",
       "1       0.628571     0.628571  0.628571\n",
       "2       0.742857     0.771429  0.742857\n",
       "3       0.828571     0.771429  0.714286\n",
       "4       0.800000     0.771429  0.714286\n",
       "5       0.657143     0.685714  0.742857\n",
       "6       0.714286     0.742857  0.685714\n",
       "7       0.742857     0.742857  0.771429\n",
       "8       0.657143     0.628571  0.714286\n",
       "9       0.742857     0.685714  0.771429"
      ]
     },
     "execution_count": 17,
     "metadata": {},
     "output_type": "execute_result"
    }
   ],
   "source": [
    "accuracyDict = {'Logistic Reg.': lr_acc, 'Naive Bayes': nb_acc, 'SVM': svm_acc}\n",
    "accuracyData = pd.DataFrame(accuracyDict)\n",
    "accuracyData.head(10)"
   ]
  },
  {
   "cell_type": "code",
   "execution_count": 22,
   "id": "8a95b2ab",
   "metadata": {},
   "outputs": [
    {
     "data": {
      "text/plain": [
       "Logistic Reg.    0.828571\n",
       "Naive Bayes      0.771429\n",
       "SVM              0.771429\n",
       "dtype: float64"
      ]
     },
     "execution_count": 22,
     "metadata": {},
     "output_type": "execute_result"
    }
   ],
   "source": [
    "accuracyData.max()"
   ]
  },
  {
   "cell_type": "code",
   "execution_count": 23,
   "id": "c14f7251",
   "metadata": {},
   "outputs": [
    {
     "data": {
      "text/html": [
       "<div>\n",
       "<style scoped>\n",
       "    .dataframe tbody tr th:only-of-type {\n",
       "        vertical-align: middle;\n",
       "    }\n",
       "\n",
       "    .dataframe tbody tr th {\n",
       "        vertical-align: top;\n",
       "    }\n",
       "\n",
       "    .dataframe thead th {\n",
       "        text-align: right;\n",
       "    }\n",
       "</style>\n",
       "<table border=\"1\" class=\"dataframe\">\n",
       "  <thead>\n",
       "    <tr style=\"text-align: right;\">\n",
       "      <th></th>\n",
       "      <th>Logistic Reg.</th>\n",
       "      <th>Naive Bayes</th>\n",
       "      <th>SVM</th>\n",
       "    </tr>\n",
       "  </thead>\n",
       "  <tbody>\n",
       "    <tr>\n",
       "      <th>0</th>\n",
       "      <td>0.540984</td>\n",
       "      <td>0.429967</td>\n",
       "      <td>0.484452</td>\n",
       "    </tr>\n",
       "    <tr>\n",
       "      <th>1</th>\n",
       "      <td>0.262561</td>\n",
       "      <td>0.262561</td>\n",
       "      <td>0.260163</td>\n",
       "    </tr>\n",
       "    <tr>\n",
       "      <th>2</th>\n",
       "      <td>0.484452</td>\n",
       "      <td>0.543974</td>\n",
       "      <td>0.484452</td>\n",
       "    </tr>\n",
       "    <tr>\n",
       "      <th>3</th>\n",
       "      <td>0.657980</td>\n",
       "      <td>0.543974</td>\n",
       "      <td>0.435484</td>\n",
       "    </tr>\n",
       "    <tr>\n",
       "      <th>4</th>\n",
       "      <td>0.600326</td>\n",
       "      <td>0.542484</td>\n",
       "      <td>0.431818</td>\n",
       "    </tr>\n",
       "    <tr>\n",
       "      <th>5</th>\n",
       "      <td>0.304636</td>\n",
       "      <td>0.363636</td>\n",
       "      <td>0.481054</td>\n",
       "    </tr>\n",
       "    <tr>\n",
       "      <th>6</th>\n",
       "      <td>0.428105</td>\n",
       "      <td>0.484452</td>\n",
       "      <td>0.371941</td>\n",
       "    </tr>\n",
       "    <tr>\n",
       "      <th>7</th>\n",
       "      <td>0.489465</td>\n",
       "      <td>0.491115</td>\n",
       "      <td>0.545455</td>\n",
       "    </tr>\n",
       "    <tr>\n",
       "      <th>8</th>\n",
       "      <td>0.311475</td>\n",
       "      <td>0.255319</td>\n",
       "      <td>0.429967</td>\n",
       "    </tr>\n",
       "    <tr>\n",
       "      <th>9</th>\n",
       "      <td>0.487805</td>\n",
       "      <td>0.380032</td>\n",
       "      <td>0.545455</td>\n",
       "    </tr>\n",
       "  </tbody>\n",
       "</table>\n",
       "</div>"
      ],
      "text/plain": [
       "   Logistic Reg.  Naive Bayes       SVM\n",
       "0       0.540984     0.429967  0.484452\n",
       "1       0.262561     0.262561  0.260163\n",
       "2       0.484452     0.543974  0.484452\n",
       "3       0.657980     0.543974  0.435484\n",
       "4       0.600326     0.542484  0.431818\n",
       "5       0.304636     0.363636  0.481054\n",
       "6       0.428105     0.484452  0.371941\n",
       "7       0.489465     0.491115  0.545455\n",
       "8       0.311475     0.255319  0.429967\n",
       "9       0.487805     0.380032  0.545455"
      ]
     },
     "execution_count": 23,
     "metadata": {},
     "output_type": "execute_result"
    }
   ],
   "source": [
    "kapaDict = {'Logistic Reg.': lr_kappa, 'Naive Bayes': nb_kappa, 'SVM': svm_kappa}\n",
    "kappaData = pd.DataFrame(kapaDict)\n",
    "kappaData.head(10)"
   ]
  },
  {
   "cell_type": "code",
   "execution_count": 24,
   "id": "edc0cacd",
   "metadata": {},
   "outputs": [
    {
     "data": {
      "text/plain": [
       "Logistic Reg.    0.657980\n",
       "Naive Bayes      0.543974\n",
       "SVM              0.545455\n",
       "dtype: float64"
      ]
     },
     "execution_count": 24,
     "metadata": {},
     "output_type": "execute_result"
    }
   ],
   "source": [
    "kappaData.max()"
   ]
  },
  {
   "cell_type": "code",
   "execution_count": 26,
   "id": "b51e9e4d",
   "metadata": {},
   "outputs": [
    {
     "data": {
      "text/plain": [
       "Text(0.5, 1.0, 'Accuracy of model in 10 runs radomly spliting Training:Test data')"
      ]
     },
     "execution_count": 26,
     "metadata": {},
     "output_type": "execute_result"
    },
    {
     "data": {
      "image/png": "[encoded data removed]",
      "text/plain": [
       "<Figure size 432x288 with 1 Axes>"
      ]
     },
     "metadata": {
      "needs_background": "light"
     },
     "output_type": "display_data"
    }
   ],
   "source": [
    "sns.lineplot(data=accuracyData, markers=True)\n",
    "plt.xlabel(\"No of runs\")\n",
    "plt.ylabel(\"Accuracy of model\")\n",
    "plt.title(\"Accuracy of model in 10 runs radomly spliting Training:Test data\")"
   ]
  },
  {
   "cell_type": "code",
   "execution_count": 27,
   "id": "7c6e0404",
   "metadata": {},
   "outputs": [
    {
     "data": {
      "text/plain": [
       "Text(0.5, 1.0, 'Kappa value of model in 10 runs radomly spliting Training:Test data')"
      ]
     },
     "execution_count": 27,
     "metadata": {},
     "output_type": "execute_result"
    },
    {
     "data": {
      "image/png": "[encoded data removed]",
      "text/plain": [
       "<Figure size 432x288 with 1 Axes>"
      ]
     },
     "metadata": {
      "needs_background": "light"
     },
     "output_type": "display_data"
    }
   ],
   "source": [
    "sns.lineplot(data=kappaData, markers=True)\n",
    "plt.xlabel(\"No of runs\")\n",
    "plt.ylabel(\"Kappa value of model\")\n",
    "plt.title(\"Kappa value of model in 10 runs radomly spliting Training:Test data\")"
   ]
  },
  {
   "cell_type": "code",
   "execution_count": null,
   "id": "b96e90fc",
   "metadata": {},
   "outputs": [],
   "source": []
  }
 ],
 "metadata": {
  "kernelspec": {
   "display_name": "Python 3 (ipykernel)",
   "language": "python",
   "name": "python3"
  },
  "language_info": {
   "codemirror_mode": {
    "name": "ipython",
    "version": 3
   },
   "file_extension": ".py",
   "mimetype": "text/x-python",
   "name": "python",
   "nbconvert_exporter": "python",
   "pygments_lexer": "ipython3",
   "version": "3.9.7"
  }
 },
 "nbformat": 4,
 "nbformat_minor": 5
}
